{
 "cells": [
  {
   "cell_type": "markdown",
   "id": "dab6e5ec",
   "metadata": {},
   "source": [
    "# Real-time Implementation and Automation of Trading Strategies"
   ]
  },
  {
   "cell_type": "markdown",
   "id": "4f19bb62",
   "metadata": {},
   "source": [
    "__Insert your Spot Testnet Credentials__:"
   ]
  },
  {
   "cell_type": "code",
   "execution_count": 1,
   "id": "2b9a8ea5",
   "metadata": {},
   "outputs": [],
   "source": [
    "api_key = \"insert here\"\n",
    "secret_key = \"insert here\""
   ]
  },
  {
   "cell_type": "code",
   "execution_count": 2,
   "id": "4743b747",
   "metadata": {},
   "outputs": [],
   "source": [
    "from binance.client import Client\n",
    "from binance import ThreadedWebsocketManager\n",
    "import pandas as pd"
   ]
  },
  {
   "cell_type": "code",
   "execution_count": 3,
   "id": "84908c00",
   "metadata": {},
   "outputs": [],
   "source": [
    "client = Client(api_key = api_key, api_secret = secret_key, tld = \"com\", testnet = True) # Testnet!!!"
   ]
  },
  {
   "cell_type": "code",
   "execution_count": 4,
   "id": "0c03d176",
   "metadata": {},
   "outputs": [
    {
     "data": {
      "text/plain": [
       "<binance.client.Client at 0x2093372cd60>"
      ]
     },
     "execution_count": 4,
     "metadata": {},
     "output_type": "execute_result"
    }
   ],
   "source": [
    "client"
   ]
  },
  {
   "cell_type": "code",
   "execution_count": 5,
   "id": "b0795d04",
   "metadata": {},
   "outputs": [],
   "source": [
    "client.get_account() # Test account details"
   ]
  },
  {
   "cell_type": "code",
   "execution_count": null,
   "id": "20e637f5",
   "metadata": {},
   "outputs": [],
   "source": []
  },
  {
   "cell_type": "markdown",
   "id": "737f9d06",
   "metadata": {},
   "source": [
    "## Recap: Streaming and Collecting Real-Time Candles"
   ]
  },
  {
   "cell_type": "code",
   "execution_count": null,
   "id": "2cfc6c17",
   "metadata": {},
   "outputs": [],
   "source": [
    "twm = ThreadedWebsocketManager()\n",
    "twm.start()"
   ]
  },
  {
   "cell_type": "markdown",
   "id": "89284eb8",
   "metadata": {},
   "source": [
    "__Kline/Candlestick Stream__"
   ]
  },
  {
   "cell_type": "code",
   "execution_count": null,
   "id": "a21ffdc2",
   "metadata": {},
   "outputs": [],
   "source": [
    "df = pd.DataFrame(columns = [\"Open\", \"High\", \"Low\", \"Close\", \"Volume\", \"Complete\"])\n",
    "df"
   ]
  },
  {
   "cell_type": "code",
   "execution_count": null,
   "id": "079798b4",
   "metadata": {},
   "outputs": [],
   "source": [
    "def stream_candles(msg):\n",
    "    ''' define how to process incoming WebSocket messages '''\n",
    "    \n",
    "    # extract the required items from msg\n",
    "    event_time = pd.to_datetime(msg[\"E\"], unit = \"ms\")\n",
    "    start_time = pd.to_datetime(msg[\"k\"][\"t\"], unit = \"ms\")\n",
    "    first   = float(msg[\"k\"][\"o\"])\n",
    "    high    = float(msg[\"k\"][\"h\"])\n",
    "    low     = float(msg[\"k\"][\"l\"])\n",
    "    close   = float(msg[\"k\"][\"c\"])\n",
    "    volume  = float(msg[\"k\"][\"v\"])\n",
    "    complete=       msg[\"k\"][\"x\"]\n",
    "    \n",
    "    # print out\n",
    "    print(\"Time: {} | Price: {}\".format(event_time, close))\n",
    "    \n",
    "    # feed df (adding new bar / updating latest bar)\n",
    "    df.loc[start_time] = [first, high, low, close, volume, complete]"
   ]
  },
  {
   "cell_type": "markdown",
   "id": "1e57c6fa",
   "metadata": {},
   "source": [
    "valid intervals - 1m, 3m, 5m, 15m, 30m, 1h, 2h, 4h, 6h, 8h, 12h, 1d, 3d, 1w, 1M"
   ]
  },
  {
   "cell_type": "code",
   "execution_count": null,
   "id": "e452d450",
   "metadata": {},
   "outputs": [],
   "source": [
    "twm.start_kline_socket(callback = stream_candles, symbol = \"BTCUSDT\", interval = \"1m\")"
   ]
  },
  {
   "cell_type": "code",
   "execution_count": null,
   "id": "bd68a683",
   "metadata": {},
   "outputs": [],
   "source": [
    "twm.stop()"
   ]
  },
  {
   "cell_type": "code",
   "execution_count": null,
   "id": "13b731f7",
   "metadata": {},
   "outputs": [],
   "source": [
    "df"
   ]
  },
  {
   "cell_type": "code",
   "execution_count": null,
   "id": "c0d891a2",
   "metadata": {},
   "outputs": [],
   "source": [
    "df.info()"
   ]
  },
  {
   "cell_type": "code",
   "execution_count": null,
   "id": "4500df1f",
   "metadata": {},
   "outputs": [],
   "source": []
  },
  {
   "cell_type": "markdown",
   "id": "901144d5",
   "metadata": {},
   "source": [
    "## A LongOnlyTrader Class"
   ]
  },
  {
   "cell_type": "code",
   "execution_count": null,
   "id": "de47eab9",
   "metadata": {},
   "outputs": [],
   "source": [
    "class LongOnlyTrader():\n",
    "    \n",
    "    def __init__(self, symbol, bar_length):\n",
    "        self.symbol = symbol\n",
    "        self.bar_length = bar_length\n",
    "        self.data = pd.DataFrame(columns = [\"Open\", \"High\", \"Low\", \"Close\", \"Volume\", \"Complete\"])\n",
    "        self.available_intervals = [\"1m\", \"3m\", \"5m\", \"15m\", \"30m\", \"1h\", \"2h\", \"4h\", \"6h\", \"8h\", \"12h\", \"1d\", \"3d\", \"1w\", \"1M\"]\n",
    "    \n",
    "    def start_trading(self):\n",
    "        \n",
    "        self.twm = ThreadedWebsocketManager()\n",
    "        self.twm.start()\n",
    "        \n",
    "        if self.bar_length in self.available_intervals:\n",
    "            self.twm.start_kline_socket(callback = self.stream_candles,\n",
    "                                        symbol = self.symbol, interval = self.bar_length) \n",
    "    \n",
    "    def stream_candles(self, msg):\n",
    "        \n",
    "        # extract the required items from msg\n",
    "        event_time = pd.to_datetime(msg[\"E\"], unit = \"ms\")\n",
    "        start_time = pd.to_datetime(msg[\"k\"][\"t\"], unit = \"ms\")\n",
    "        first   = float(msg[\"k\"][\"o\"])\n",
    "        high    = float(msg[\"k\"][\"h\"])\n",
    "        low     = float(msg[\"k\"][\"l\"])\n",
    "        close   = float(msg[\"k\"][\"c\"])\n",
    "        volume  = float(msg[\"k\"][\"v\"])\n",
    "        complete=       msg[\"k\"][\"x\"]\n",
    "    \n",
    "        # print out\n",
    "        print(\"Time: {} | Price: {}\".format(event_time, close))\n",
    "    \n",
    "        # feed df (adding new bar / updating latest bar)\n",
    "        self.data.loc[start_time] = [first, high, low, close, volume, complete]"
   ]
  },
  {
   "cell_type": "code",
   "execution_count": null,
   "id": "9fdb3cb9",
   "metadata": {},
   "outputs": [],
   "source": [
    "trader = LongOnlyTrader(symbol = \"BTCUSDT\", bar_length = \"1m\")\n",
    "trader"
   ]
  },
  {
   "cell_type": "code",
   "execution_count": null,
   "id": "d21a8e3b",
   "metadata": {},
   "outputs": [],
   "source": [
    "trader.symbol"
   ]
  },
  {
   "cell_type": "code",
   "execution_count": null,
   "id": "5c4ad5a8",
   "metadata": {},
   "outputs": [],
   "source": [
    "trader.data"
   ]
  },
  {
   "cell_type": "code",
   "execution_count": null,
   "id": "48cbc4d0",
   "metadata": {},
   "outputs": [],
   "source": [
    "trader.available_intervals"
   ]
  },
  {
   "cell_type": "code",
   "execution_count": null,
   "id": "09c0bf19",
   "metadata": {},
   "outputs": [],
   "source": [
    "trader.start_trading()"
   ]
  },
  {
   "cell_type": "code",
   "execution_count": null,
   "id": "e03e90ce",
   "metadata": {},
   "outputs": [],
   "source": [
    "trader.twm.stop()"
   ]
  },
  {
   "cell_type": "code",
   "execution_count": null,
   "id": "ee572efe",
   "metadata": {},
   "outputs": [],
   "source": [
    "trader.data"
   ]
  },
  {
   "cell_type": "code",
   "execution_count": null,
   "id": "ff381c6e",
   "metadata": {},
   "outputs": [],
   "source": []
  },
  {
   "cell_type": "markdown",
   "id": "20ef556d",
   "metadata": {},
   "source": [
    "## Working with historical data and real-time data"
   ]
  },
  {
   "cell_type": "markdown",
   "id": "fe56fbc0",
   "metadata": {},
   "source": [
    "For many Trading Strategies, we need __historical Data__ (e.g. last 2 hours) to create Strategy Features. <br>"
   ]
  },
  {
   "cell_type": "markdown",
   "id": "f4fdca3b",
   "metadata": {},
   "source": [
    "- Option 1: we could __wait__ until our __stream collects sufficient Data__\n",
    "- Option 2: we __pull historical data__ first and __merge__ with live data "
   ]
  },
  {
   "cell_type": "code",
   "execution_count": null,
   "id": "fd4f9bb9",
   "metadata": {},
   "outputs": [],
   "source": [
    "from binance.client import Client\n",
    "from binance import ThreadedWebsocketManager\n",
    "import pandas as pd\n",
    "from datetime import datetime, timedelta"
   ]
  },
  {
   "cell_type": "code",
   "execution_count": null,
   "id": "50521016",
   "metadata": {},
   "outputs": [],
   "source": [
    "client = Client(api_key = api_key, api_secret = secret_key, tld = \"com\", testnet = True)"
   ]
  },
  {
   "cell_type": "code",
   "execution_count": null,
   "id": "4f137514",
   "metadata": {},
   "outputs": [],
   "source": [
    "now = datetime.utcnow()\n",
    "now"
   ]
  },
  {
   "cell_type": "markdown",
   "id": "ffa376e9",
   "metadata": {},
   "source": [
    "__Example: Last two days until now__"
   ]
  },
  {
   "cell_type": "code",
   "execution_count": null,
   "id": "3aad4a5a",
   "metadata": {},
   "outputs": [],
   "source": [
    "past = now - timedelta(days = 2)\n",
    "past"
   ]
  },
  {
   "cell_type": "code",
   "execution_count": null,
   "id": "55fbbdd5",
   "metadata": {},
   "outputs": [],
   "source": [
    "str(past)"
   ]
  },
  {
   "cell_type": "code",
   "execution_count": null,
   "id": "c0c7555d",
   "metadata": {},
   "outputs": [],
   "source": [
    "def get_most_recent(symbol, interval, days):\n",
    "    \n",
    "    now = datetime.utcnow()\n",
    "    past = str(now - timedelta(days = days))\n",
    "    \n",
    "    bars = client.get_historical_klines(symbol = symbol, interval = interval,\n",
    "                                        start_str = past, end_str = None, limit = 1000)\n",
    "    df = pd.DataFrame(bars)\n",
    "    df[\"Date\"] = pd.to_datetime(df.iloc[:,0], unit = \"ms\")\n",
    "    df.columns = [\"Open Time\", \"Open\", \"High\", \"Low\", \"Close\", \"Volume\",\n",
    "                  \"Clos Time\", \"Quote Asset Volume\", \"Number of Trades\",\n",
    "                  \"Taker Buy Base Asset Volume\", \"Taker Buy Quote Asset Volume\", \"Ignore\", \"Date\"]\n",
    "    df = df[[\"Date\", \"Open\", \"High\", \"Low\", \"Close\", \"Volume\"]].copy()\n",
    "    df.set_index(\"Date\", inplace = True)\n",
    "    for column in df.columns:\n",
    "        df[column] = pd.to_numeric(df[column], errors = \"coerce\")\n",
    "    df[\"Complete\"] = [True for row in range(len(df)-1)] + [False]\n",
    "    \n",
    "    return df"
   ]
  },
  {
   "cell_type": "code",
   "execution_count": null,
   "id": "a860eb2e",
   "metadata": {},
   "outputs": [],
   "source": [
    "df = get_most_recent(symbol = \"BTCUSDT\", interval = \"1m\", days = 2)\n",
    "df"
   ]
  },
  {
   "cell_type": "markdown",
   "id": "8ba4636c",
   "metadata": {},
   "source": [
    "valid intervals - 1m, 3m, 5m, 15m, 30m, 1h, 2h, 4h, 6h, 8h, 12h, 1d, 3d, 1w, 1M"
   ]
  },
  {
   "cell_type": "code",
   "execution_count": null,
   "id": "555ac73e",
   "metadata": {},
   "outputs": [],
   "source": [
    "get_most_recent(symbol = \"BTCUSDT\", interval = \"1m\", days = 2/24)"
   ]
  },
  {
   "cell_type": "code",
   "execution_count": null,
   "id": "950cd704",
   "metadata": {},
   "outputs": [],
   "source": []
  },
  {
   "cell_type": "markdown",
   "id": "a7973168",
   "metadata": {},
   "source": []
  },
  {
   "cell_type": "code",
   "execution_count": null,
   "id": "ed2af79e",
   "metadata": {},
   "outputs": [],
   "source": [
    "class LongOnlyTrader():\n",
    "    \n",
    "    def __init__(self, symbol, bar_length):\n",
    "        self.symbol = symbol\n",
    "        self.bar_length = bar_length\n",
    "        # self.data = pd.DataFrame(columns = [\"Open\", \"High\", \"Low\", \"Close\", \"Volume\", \"Complete\"])\n",
    "        self.available_intervals = [\"1m\", \"3m\", \"5m\", \"15m\", \"30m\", \"1h\", \"2h\", \"4h\", \"6h\", \"8h\", \"12h\", \"1d\", \"3d\", \"1w\", \"1M\"]\n",
    "    \n",
    "    def start_trading(self, historical_days):\n",
    "        \n",
    "        self.twm = ThreadedWebsocketManager()\n",
    "        self.twm.start()\n",
    "        \n",
    "        if self.bar_length in self.available_intervals:\n",
    "            self.get_most_recent(symbol = self.symbol, interval = self.bar_length,\n",
    "                                 days = historical_days) \n",
    "            self.twm.start_kline_socket(callback = self.stream_candles,\n",
    "                                        symbol = self.symbol, interval = self.bar_length)\n",
    "    \n",
    "    def get_most_recent(self, symbol, interval, days):\n",
    "    \n",
    "        now = datetime.utcnow()\n",
    "        past = str(now - timedelta(days = days))\n",
    "    \n",
    "        bars = client.get_historical_klines(symbol = symbol, interval = interval,\n",
    "                                            start_str = past, end_str = None, limit = 1000)\n",
    "        df = pd.DataFrame(bars)\n",
    "        df[\"Date\"] = pd.to_datetime(df.iloc[:,0], unit = \"ms\")\n",
    "        df.columns = [\"Open Time\", \"Open\", \"High\", \"Low\", \"Close\", \"Volume\",\n",
    "                      \"Clos Time\", \"Quote Asset Volume\", \"Number of Trades\",\n",
    "                      \"Taker Buy Base Asset Volume\", \"Taker Buy Quote Asset Volume\", \"Ignore\", \"Date\"]\n",
    "        df = df[[\"Date\", \"Open\", \"High\", \"Low\", \"Close\", \"Volume\"]].copy()\n",
    "        df.set_index(\"Date\", inplace = True)\n",
    "        for column in df.columns:\n",
    "            df[column] = pd.to_numeric(df[column], errors = \"coerce\")\n",
    "        df[\"Complete\"] = [True for row in range(len(df)-1)] + [False]\n",
    "        \n",
    "        self.data = df \n",
    "    \n",
    "    def stream_candles(self, msg):\n",
    "        \n",
    "        # extract the required items from msg\n",
    "        event_time = pd.to_datetime(msg[\"E\"], unit = \"ms\")\n",
    "        start_time = pd.to_datetime(msg[\"k\"][\"t\"], unit = \"ms\")\n",
    "        first   = float(msg[\"k\"][\"o\"])\n",
    "        high    = float(msg[\"k\"][\"h\"])\n",
    "        low     = float(msg[\"k\"][\"l\"])\n",
    "        close   = float(msg[\"k\"][\"c\"])\n",
    "        volume  = float(msg[\"k\"][\"v\"])\n",
    "        complete=       msg[\"k\"][\"x\"]\n",
    "    \n",
    "        # print out\n",
    "        print(\"Time: {} | Price: {}\".format(event_time, close))\n",
    "    \n",
    "        # feed df (adding new bar / updating latest bar)\n",
    "        self.data.loc[start_time] = [first, high, low, close, volume, complete]"
   ]
  },
  {
   "cell_type": "code",
   "execution_count": null,
   "id": "f7f4e9f5",
   "metadata": {},
   "outputs": [],
   "source": [
    "trader = LongOnlyTrader(symbol = \"BTCUSDT\", bar_length = \"1m\")\n",
    "trader"
   ]
  },
  {
   "cell_type": "code",
   "execution_count": null,
   "id": "4e4758fb",
   "metadata": {},
   "outputs": [],
   "source": [
    "trader.start_trading(historical_days = 2)"
   ]
  },
  {
   "cell_type": "code",
   "execution_count": null,
   "id": "966eab15",
   "metadata": {},
   "outputs": [],
   "source": [
    "trader.twm.stop()"
   ]
  },
  {
   "cell_type": "code",
   "execution_count": null,
   "id": "9b3b558c",
   "metadata": {},
   "outputs": [],
   "source": [
    "trader.data.tail(15)"
   ]
  },
  {
   "cell_type": "code",
   "execution_count": null,
   "id": "8c058411",
   "metadata": {},
   "outputs": [],
   "source": []
  },
  {
   "cell_type": "markdown",
   "id": "6379971b",
   "metadata": {},
   "source": [
    "## Adding a Long-Only Strategy"
   ]
  },
  {
   "cell_type": "markdown",
   "id": "9f0c92d8",
   "metadata": {},
   "source": [
    "Let´s implement a Long-only Price & Volume Strategy with the following Parameters:"
   ]
  },
  {
   "cell_type": "markdown",
   "id": "7bb6f0f0",
   "metadata": {},
   "source": [
    "- bar_length = __1m__\n",
    "- Return Threshold: __0%__\n",
    "- Low and High Volume Change Threshold: __[-3.0, 3.0]__\n",
    "- effectively: very simple Contrarian Strategy, sell (buy) if most recent 1m return was positive (negative)\n",
    "- not profitable but many position changes & trades (just for demonstration purposes)"
   ]
  },
  {
   "cell_type": "code",
   "execution_count": null,
   "id": "2a1aadeb",
   "metadata": {},
   "outputs": [],
   "source": [
    "from binance.client import Client\n",
    "from binance import ThreadedWebsocketManager\n",
    "import pandas as pd\n",
    "import numpy as np\n",
    "from datetime import datetime, timedelta"
   ]
  },
  {
   "cell_type": "code",
   "execution_count": null,
   "id": "ceabef59",
   "metadata": {},
   "outputs": [],
   "source": [
    "client = Client(api_key = api_key, api_secret = secret_key, tld = \"com\", testnet = True)"
   ]
  },
  {
   "cell_type": "code",
   "execution_count": null,
   "id": "6b85177e",
   "metadata": {},
   "outputs": [],
   "source": [
    "class LongOnlyTrader():\n",
    "    \n",
    "    def __init__(self, symbol, bar_length, return_thresh, volume_thresh):\n",
    "        \n",
    "        self.symbol = symbol\n",
    "        self.bar_length = bar_length\n",
    "        self.available_intervals = [\"1m\", \"3m\", \"5m\", \"15m\", \"30m\", \"1h\", \"2h\", \"4h\", \"6h\", \"8h\", \"12h\", \"1d\", \"3d\", \"1w\", \"1M\"]\n",
    "        \n",
    "        #*****************adding strategy-specific attributes here******************\n",
    "        self.return_thresh = return_thresh\n",
    "        self.volume_thresh = volume_thresh\n",
    "        #************************************************************************\n",
    "    \n",
    "    def start_trading(self, historical_days):\n",
    "        \n",
    "        self.twm = ThreadedWebsocketManager()\n",
    "        self.twm.start()\n",
    "        \n",
    "        if self.bar_length in self.available_intervals:\n",
    "            self.get_most_recent(symbol = self.symbol, interval = self.bar_length,\n",
    "                                 days = historical_days)\n",
    "            self.twm.start_kline_socket(callback = self.stream_candles,\n",
    "                                        symbol = self.symbol, interval = self.bar_length)\n",
    "    \n",
    "    def get_most_recent(self, symbol, interval, days):\n",
    "    \n",
    "        now = datetime.utcnow()\n",
    "        past = str(now - timedelta(days = days))\n",
    "    \n",
    "        bars = client.get_historical_klines(symbol = symbol, interval = interval,\n",
    "                                            start_str = past, end_str = None, limit = 1000)\n",
    "        df = pd.DataFrame(bars)\n",
    "        df[\"Date\"] = pd.to_datetime(df.iloc[:,0], unit = \"ms\")\n",
    "        df.columns = [\"Open Time\", \"Open\", \"High\", \"Low\", \"Close\", \"Volume\",\n",
    "                      \"Clos Time\", \"Quote Asset Volume\", \"Number of Trades\",\n",
    "                      \"Taker Buy Base Asset Volume\", \"Taker Buy Quote Asset Volume\", \"Ignore\", \"Date\"]\n",
    "        df = df[[\"Date\", \"Open\", \"High\", \"Low\", \"Close\", \"Volume\"]].copy()\n",
    "        df.set_index(\"Date\", inplace = True)\n",
    "        for column in df.columns:\n",
    "            df[column] = pd.to_numeric(df[column], errors = \"coerce\")\n",
    "        df[\"Complete\"] = [True for row in range(len(df)-1)] + [False]\n",
    "        \n",
    "        self.data = df\n",
    "    \n",
    "    def stream_candles(self, msg):\n",
    "        \n",
    "        event_time = pd.to_datetime(msg[\"E\"], unit = \"ms\")\n",
    "        start_time = pd.to_datetime(msg[\"k\"][\"t\"], unit = \"ms\")\n",
    "        first   = float(msg[\"k\"][\"o\"])\n",
    "        high    = float(msg[\"k\"][\"h\"])\n",
    "        low     = float(msg[\"k\"][\"l\"])\n",
    "        close   = float(msg[\"k\"][\"c\"])\n",
    "        volume  = float(msg[\"k\"][\"v\"])\n",
    "        complete=       msg[\"k\"][\"x\"]\n",
    "    \n",
    "        print(\".\", end = \"\", flush = True) # just print something to get a feedback (everything OK) \n",
    "    \n",
    "        # feed df (adding new bar / updating latest bar)\n",
    "        self.data.loc[start_time] = [first, high, low, close, volume, complete]\n",
    "        \n",
    "        # prepare features and define strategy/trading positions whenever the latest bar is complete\n",
    "        if complete == True:\n",
    "            self.define_strategy()\n",
    "        \n",
    "    def define_strategy(self): # \"strategy-specific\"\n",
    "        \n",
    "        df = self.data.copy()\n",
    "        \n",
    "        #******************** defining strategy here ***********************\n",
    "        df = df[[\"Close\", \"Volume\"]].copy()\n",
    "        df[\"returns\"] = np.log(df.Close / df.Close.shift())\n",
    "        df[\"vol_ch\"] = np.log(df.Volume.div(df.Volume.shift(1)))\n",
    "        df.loc[df.vol_ch > 3, \"vol_ch\"] = np.nan\n",
    "        df.loc[df.vol_ch < -3, \"vol_ch\"] = np.nan  \n",
    "        \n",
    "        cond1 = df.returns >= self.return_thresh\n",
    "        cond2 = df.vol_ch.between(self.volume_thresh[0], self.volume_thresh[1])\n",
    "        \n",
    "        df[\"position\"] = 1\n",
    "        df.loc[cond1 & cond2, \"position\"] = 0\n",
    "        #***********************************************************************\n",
    "        \n",
    "        self.prepared_data = df.copy()\n",
    "        "
   ]
  },
  {
   "cell_type": "code",
   "execution_count": null,
   "id": "d8ecf6b4",
   "metadata": {},
   "outputs": [],
   "source": [
    "symbol = \"BTCUSDT\"\n",
    "bar_length = \"1m\"\n",
    "return_thresh = 0\n",
    "volume_thresh = [-3, 3]"
   ]
  },
  {
   "cell_type": "code",
   "execution_count": null,
   "id": "471c15ff",
   "metadata": {},
   "outputs": [],
   "source": [
    "trader = LongOnlyTrader(symbol = symbol, bar_length = bar_length,\n",
    "                        return_thresh = return_thresh, volume_thresh = volume_thresh)"
   ]
  },
  {
   "cell_type": "code",
   "execution_count": null,
   "id": "3dec7735",
   "metadata": {},
   "outputs": [],
   "source": [
    "trader.start_trading(historical_days = 1/24)"
   ]
  },
  {
   "cell_type": "code",
   "execution_count": null,
   "id": "6fa01d25",
   "metadata": {},
   "outputs": [],
   "source": [
    "trader.twm.stop()"
   ]
  },
  {
   "cell_type": "code",
   "execution_count": null,
   "id": "396e1b8d",
   "metadata": {},
   "outputs": [],
   "source": [
    "trader.data"
   ]
  },
  {
   "cell_type": "code",
   "execution_count": null,
   "id": "775613f4",
   "metadata": {},
   "outputs": [],
   "source": [
    "trader.prepared_data"
   ]
  },
  {
   "cell_type": "code",
   "execution_count": null,
   "id": "5bdc4fcd",
   "metadata": {},
   "outputs": [],
   "source": []
  },
  {
   "cell_type": "markdown",
   "id": "400b3a9e",
   "metadata": {},
   "source": [
    "## Placing Orders and Executing Trades"
   ]
  },
  {
   "cell_type": "code",
   "execution_count": null,
   "id": "dce0e3e8",
   "metadata": {},
   "outputs": [],
   "source": [
    "from binance.client import Client\n",
    "from binance import ThreadedWebsocketManager\n",
    "import pandas as pd\n",
    "import numpy as np\n",
    "from datetime import datetime, timedelta"
   ]
  },
  {
   "cell_type": "code",
   "execution_count": null,
   "id": "30eb651c",
   "metadata": {},
   "outputs": [],
   "source": [
    "client = Client(api_key = api_key, api_secret = secret_key, tld = \"com\", testnet = True)"
   ]
  },
  {
   "cell_type": "code",
   "execution_count": null,
   "id": "4918e760",
   "metadata": {},
   "outputs": [],
   "source": [
    "class LongOnlyTrader():\n",
    "    \n",
    "    def __init__(self, symbol, bar_length, return_thresh, volume_thresh, units, position = 0):\n",
    "        \n",
    "        self.symbol = symbol\n",
    "        self.bar_length = bar_length\n",
    "        self.available_intervals = [\"1m\", \"3m\", \"5m\", \"15m\", \"30m\", \"1h\", \"2h\", \"4h\", \"6h\", \"8h\", \"12h\", \"1d\", \"3d\", \"1w\", \"1M\"]\n",
    "        self.units = units \n",
    "        self.position = position \n",
    "        \n",
    "        #*****************adding strategy-specific attributes here******************\n",
    "        self.return_thresh = return_thresh\n",
    "        self.volume_thresh = volume_thresh\n",
    "        #************************************************************************\n",
    "    \n",
    "    def start_trading(self, historical_days):\n",
    "        \n",
    "        self.twm = ThreadedWebsocketManager()\n",
    "        self.twm.start()\n",
    "        \n",
    "        if self.bar_length in self.available_intervals:\n",
    "            self.get_most_recent(symbol = self.symbol, interval = self.bar_length,\n",
    "                                 days = historical_days)\n",
    "            self.twm.start_kline_socket(callback = self.stream_candles,\n",
    "                                        symbol = self.symbol, interval = self.bar_length)\n",
    "    \n",
    "    def get_most_recent(self, symbol, interval, days):\n",
    "    \n",
    "        now = datetime.utcnow()\n",
    "        past = str(now - timedelta(days = days))\n",
    "    \n",
    "        bars = client.get_historical_klines(symbol = symbol, interval = interval,\n",
    "                                            start_str = past, end_str = None, limit = 1000)\n",
    "        df = pd.DataFrame(bars)\n",
    "        df[\"Date\"] = pd.to_datetime(df.iloc[:,0], unit = \"ms\")\n",
    "        df.columns = [\"Open Time\", \"Open\", \"High\", \"Low\", \"Close\", \"Volume\",\n",
    "                      \"Clos Time\", \"Quote Asset Volume\", \"Number of Trades\",\n",
    "                      \"Taker Buy Base Asset Volume\", \"Taker Buy Quote Asset Volume\", \"Ignore\", \"Date\"]\n",
    "        df = df[[\"Date\", \"Open\", \"High\", \"Low\", \"Close\", \"Volume\"]].copy()\n",
    "        df.set_index(\"Date\", inplace = True)\n",
    "        for column in df.columns:\n",
    "            df[column] = pd.to_numeric(df[column], errors = \"coerce\")\n",
    "        df[\"Complete\"] = [True for row in range(len(df)-1)] + [False]\n",
    "        \n",
    "        self.data = df\n",
    "    \n",
    "    def stream_candles(self, msg):\n",
    "        \n",
    "        # extract the required items from msg\n",
    "        event_time = pd.to_datetime(msg[\"E\"], unit = \"ms\")\n",
    "        start_time = pd.to_datetime(msg[\"k\"][\"t\"], unit = \"ms\")\n",
    "        first   = float(msg[\"k\"][\"o\"])\n",
    "        high    = float(msg[\"k\"][\"h\"])\n",
    "        low     = float(msg[\"k\"][\"l\"])\n",
    "        close   = float(msg[\"k\"][\"c\"])\n",
    "        volume  = float(msg[\"k\"][\"v\"])\n",
    "        complete=       msg[\"k\"][\"x\"]\n",
    "    \n",
    "        print(\".\", end = \"\", flush = True) # just print something to get a feedback (everything OK) \n",
    "    \n",
    "        # feed df (adding new bar / updating latest bar)\n",
    "        self.data.loc[start_time] = [first, high, low, close, volume, complete]\n",
    "        \n",
    "        # preparing features and defining strategy/trading positions whenever the latest bar is complete\n",
    "        if complete == True:\n",
    "            self.define_strategy()\n",
    "            self.execute_trades()\n",
    "        \n",
    "    def define_strategy(self):\n",
    "        \n",
    "        df = self.data.copy()\n",
    "        \n",
    "        #******************** defining strategy here ************************\n",
    "        df = df[[\"Close\", \"Volume\"]].copy()\n",
    "        df[\"returns\"] = np.log(df.Close / df.Close.shift())\n",
    "        df[\"vol_ch\"] = np.log(df.Volume.div(df.Volume.shift(1)))\n",
    "        df.loc[df.vol_ch > 3, \"vol_ch\"] = np.nan\n",
    "        df.loc[df.vol_ch < -3, \"vol_ch\"] = np.nan  \n",
    "        \n",
    "        cond1 = df.returns >= self.return_thresh\n",
    "        cond2 = df.vol_ch.between(self.volume_thresh[0], self.volume_thresh[1])\n",
    "        \n",
    "        df[\"position\"] = 1\n",
    "        df.loc[cond1 & cond2, \"position\"] = 0\n",
    "        #***********************************************************************\n",
    "        \n",
    "        self.prepared_data = df.copy()\n",
    "    \n",
    "    def execute_trades(self): # NEW!\n",
    "        if self.prepared_data[\"position\"].iloc[-1] == 1: # if position is long -> go/stay long\n",
    "            if self.position == 0:\n",
    "                order = client.create_order(symbol = self.symbol, side = \"BUY\", type = \"MARKET\", quantity = self.units)\n",
    "                print(\"GOING LONG\")\n",
    "            self.position = 1\n",
    "        elif self.prepared_data[\"position\"].iloc[-1] == 0: # if position is neutral -> go/stay neutral\n",
    "            if self.position == 1:\n",
    "                order = client.create_order(symbol = self.symbol, side = \"SELL\", type = \"MARKET\", quantity = self.units)\n",
    "                print(\"GOING NEUTRAL\")\n",
    "            self.position = 0"
   ]
  },
  {
   "cell_type": "code",
   "execution_count": null,
   "id": "bbd7deb3",
   "metadata": {},
   "outputs": [],
   "source": [
    "client.get_account() "
   ]
  },
  {
   "cell_type": "code",
   "execution_count": null,
   "id": "4686fcdb",
   "metadata": {},
   "outputs": [],
   "source": [
    "symbol = \"BTCUSDT\"\n",
    "bar_length = \"1m\"\n",
    "return_thresh = 0\n",
    "volume_thresh = [-3, 3]\n",
    "units = 0.01\n",
    "position = 0"
   ]
  },
  {
   "cell_type": "code",
   "execution_count": null,
   "id": "0cd4b7b8",
   "metadata": {},
   "outputs": [],
   "source": [
    "trader = LongOnlyTrader(symbol = symbol, bar_length = bar_length, return_thresh = return_thresh,\n",
    "                        volume_thresh = volume_thresh, units = units, position = position)"
   ]
  },
  {
   "cell_type": "code",
   "execution_count": null,
   "id": "778fcaed",
   "metadata": {},
   "outputs": [],
   "source": [
    "trader.start_trading(historical_days = 1/24)"
   ]
  },
  {
   "cell_type": "code",
   "execution_count": null,
   "id": "51436d56",
   "metadata": {},
   "outputs": [],
   "source": [
    "trader.twm.stop()"
   ]
  },
  {
   "cell_type": "code",
   "execution_count": null,
   "id": "49fbe71d",
   "metadata": {},
   "outputs": [],
   "source": [
    "trader.prepared_data.tail(20)"
   ]
  },
  {
   "cell_type": "code",
   "execution_count": null,
   "id": "b3325e0f",
   "metadata": {},
   "outputs": [],
   "source": [
    "client.get_account() "
   ]
  },
  {
   "cell_type": "code",
   "execution_count": null,
   "id": "565939a8",
   "metadata": {},
   "outputs": [],
   "source": []
  },
  {
   "cell_type": "markdown",
   "id": "9e136b74",
   "metadata": {},
   "source": [
    "## Trade Monitoring and Reporting"
   ]
  },
  {
   "cell_type": "code",
   "execution_count": null,
   "id": "752ce2d1",
   "metadata": {},
   "outputs": [],
   "source": [
    "from binance.client import Client\n",
    "from binance import ThreadedWebsocketManager\n",
    "import pandas as pd\n",
    "import numpy as np\n",
    "from datetime import datetime, timedelta"
   ]
  },
  {
   "cell_type": "code",
   "execution_count": null,
   "id": "eccd1ffd",
   "metadata": {},
   "outputs": [],
   "source": [
    "client = Client(api_key = api_key, api_secret = secret_key, tld = \"com\", testnet = True)"
   ]
  },
  {
   "cell_type": "code",
   "execution_count": null,
   "id": "fe28e5ac",
   "metadata": {},
   "outputs": [],
   "source": [
    "class LongOnlyTrader():\n",
    "    \n",
    "    def __init__(self, symbol, bar_length, return_thresh, volume_thresh, units, position = 0):\n",
    "        \n",
    "        self.symbol = symbol\n",
    "        self.bar_length = bar_length\n",
    "        self.available_intervals = [\"1m\", \"3m\", \"5m\", \"15m\", \"30m\", \"1h\", \"2h\", \"4h\", \"6h\", \"8h\", \"12h\", \"1d\", \"3d\", \"1w\", \"1M\"]\n",
    "        self.units = units\n",
    "        self.position = position\n",
    "        self.trades = 0\n",
    "        self.trade_values = []\n",
    "        \n",
    "        #*****************adding strategy-specific attributes here******************\n",
    "        self.return_thresh = return_thresh\n",
    "        self.volume_thresh = volume_thresh\n",
    "        #************************************************************************\n",
    "    \n",
    "    def start_trading(self, historical_days):\n",
    "        \n",
    "        self.twm = ThreadedWebsocketManager()\n",
    "        self.twm.start()\n",
    "        \n",
    "        if self.bar_length in self.available_intervals:\n",
    "            self.get_most_recent(symbol = self.symbol, interval = self.bar_length,\n",
    "                                 days = historical_days)\n",
    "            self.twm.start_kline_socket(callback = self.stream_candles,\n",
    "                                        symbol = self.symbol, interval = self.bar_length)\n",
    "    \n",
    "    def get_most_recent(self, symbol, interval, days):\n",
    "    \n",
    "        now = datetime.utcnow()\n",
    "        past = str(now - timedelta(days = days))\n",
    "    \n",
    "        bars = client.get_historical_klines(symbol = symbol, interval = interval,\n",
    "                                            start_str = past, end_str = None, limit = 1000)\n",
    "        df = pd.DataFrame(bars)\n",
    "        df[\"Date\"] = pd.to_datetime(df.iloc[:,0], unit = \"ms\")\n",
    "        df.columns = [\"Open Time\", \"Open\", \"High\", \"Low\", \"Close\", \"Volume\",\n",
    "                      \"Clos Time\", \"Quote Asset Volume\", \"Number of Trades\",\n",
    "                      \"Taker Buy Base Asset Volume\", \"Taker Buy Quote Asset Volume\", \"Ignore\", \"Date\"]\n",
    "        df = df[[\"Date\", \"Open\", \"High\", \"Low\", \"Close\", \"Volume\"]].copy()\n",
    "        df.set_index(\"Date\", inplace = True)\n",
    "        for column in df.columns:\n",
    "            df[column] = pd.to_numeric(df[column], errors = \"coerce\")\n",
    "        df[\"Complete\"] = [True for row in range(len(df)-1)] + [False]\n",
    "        \n",
    "        self.data = df\n",
    "    \n",
    "    def stream_candles(self, msg):\n",
    "        \n",
    "        # extract the required items from msg\n",
    "        event_time = pd.to_datetime(msg[\"E\"], unit = \"ms\")\n",
    "        start_time = pd.to_datetime(msg[\"k\"][\"t\"], unit = \"ms\")\n",
    "        first   = float(msg[\"k\"][\"o\"])\n",
    "        high    = float(msg[\"k\"][\"h\"])\n",
    "        low     = float(msg[\"k\"][\"l\"])\n",
    "        close   = float(msg[\"k\"][\"c\"])\n",
    "        volume  = float(msg[\"k\"][\"v\"])\n",
    "        complete=       msg[\"k\"][\"x\"]\n",
    "    \n",
    "        print(\".\", end = \"\", flush = True) # just print something to get a feedback (everything OK) \n",
    "    \n",
    "        # feed df (add new bar / update latest bar)\n",
    "        self.data.loc[start_time] = [first, high, low, close, volume, complete]\n",
    "        \n",
    "        # preparing features and defining strategy/trading positions whenever the latest bar is complete\n",
    "        if complete == True:\n",
    "            self.define_strategy()\n",
    "            self.execute_trades()\n",
    "        \n",
    "    def define_strategy(self):\n",
    "        \n",
    "        df = self.data.copy()\n",
    "        \n",
    "        #******************** define your strategy here ************************\n",
    "        df = df[[\"Close\", \"Volume\"]].copy()\n",
    "        df[\"returns\"] = np.log(df.Close / df.Close.shift())\n",
    "        df[\"vol_ch\"] = np.log(df.Volume.div(df.Volume.shift(1)))\n",
    "        df.loc[df.vol_ch > 3, \"vol_ch\"] = np.nan\n",
    "        df.loc[df.vol_ch < -3, \"vol_ch\"] = np.nan  \n",
    "        \n",
    "        cond1 = df.returns >= self.return_thresh\n",
    "        cond2 = df.vol_ch.between(self.volume_thresh[0], self.volume_thresh[1])\n",
    "        \n",
    "        df[\"position\"] = 1\n",
    "        df.loc[cond1 & cond2, \"position\"] = 0\n",
    "        #***********************************************************************\n",
    "        \n",
    "        self.prepared_data = df.copy()\n",
    "    \n",
    "    def execute_trades(self): \n",
    "        if self.prepared_data[\"position\"].iloc[-1] == 1: # if position is long -> go/stay long\n",
    "            if self.position == 0:\n",
    "                order = client.create_order(symbol = self.symbol, side = \"BUY\", type = \"MARKET\", quantity = self.units)\n",
    "                self.report_trade(order, \"GOING LONG\")  # NEW\n",
    "            self.position = 1\n",
    "        elif self.prepared_data[\"position\"].iloc[-1] == 0: # if position is neutral -> go/stay neutral\n",
    "            if self.position == 1:\n",
    "                order = client.create_order(symbol = self.symbol, side = \"SELL\", type = \"MARKET\", quantity = self.units)\n",
    "                self.report_trade(order, \"GOING NEUTRAL\")  # NEW\n",
    "            self.position = 0\n",
    "    \n",
    "    def report_trade(self, order, going):  # NEW\n",
    "        \n",
    "        # extract data from order object\n",
    "        side = order[\"side\"]\n",
    "        time = pd.to_datetime(order[\"transactTime\"], unit = \"ms\")\n",
    "        base_units = float(order[\"executedQty\"])\n",
    "        quote_units = float(order[\"cummulativeQuoteQty\"])\n",
    "        price = round(quote_units / base_units, 5)\n",
    "        \n",
    "        # calculate trading profits\n",
    "        self.trades += 1\n",
    "        if side == \"BUY\":\n",
    "            self.trade_values.append(-quote_units)\n",
    "        elif side == \"SELL\":\n",
    "            self.trade_values.append(quote_units) \n",
    "        \n",
    "        if self.trades % 2 == 0:\n",
    "            real_profit = round(np.sum(self.trade_values[-2:]), 3) \n",
    "            cum_profits = round(np.sum(self.trade_values), 3)\n",
    "        else: \n",
    "            real_profit = 0\n",
    "            cum_profits = round(np.sum(self.trade_values[:-1]), 3)\n",
    "        \n",
    "        # print trade report\n",
    "        print(2 * \"\\n\" + 100* \"-\")\n",
    "        print(\"{} | {}\".format(time, going)) \n",
    "        print(\"{} | Base_Units = {} | Quote_Units = {} | Price = {} \".format(time, base_units, quote_units, price))\n",
    "        print(\"{} | Profit = {} | CumProfits = {} \".format(time, real_profit, cum_profits))\n",
    "        print(100 * \"-\" + \"\\n\")"
   ]
  },
  {
   "cell_type": "code",
   "execution_count": null,
   "id": "24494a4f",
   "metadata": {},
   "outputs": [],
   "source": [
    "client.get_account()"
   ]
  },
  {
   "cell_type": "code",
   "execution_count": null,
   "id": "508a30ab",
   "metadata": {},
   "outputs": [],
   "source": [
    "symbol = \"BTCUSDT\"\n",
    "bar_length = \"1m\"\n",
    "return_thresh = 0\n",
    "volume_thresh = [-3, 3]\n",
    "units = 0.01\n",
    "position = 0"
   ]
  },
  {
   "cell_type": "code",
   "execution_count": null,
   "id": "d420262a",
   "metadata": {},
   "outputs": [],
   "source": [
    "trader = LongOnlyTrader(symbol = symbol, bar_length = bar_length, return_thresh = return_thresh,\n",
    "                        volume_thresh = volume_thresh, units = units, position = position)"
   ]
  },
  {
   "cell_type": "code",
   "execution_count": null,
   "id": "41070c46",
   "metadata": {},
   "outputs": [],
   "source": [
    "trader.start_trading(historical_days = 1/24)"
   ]
  },
  {
   "cell_type": "code",
   "execution_count": null,
   "id": "f6c49841",
   "metadata": {},
   "outputs": [],
   "source": [
    "trader.twm.stop()"
   ]
  },
  {
   "cell_type": "code",
   "execution_count": null,
   "id": "7789cd51",
   "metadata": {},
   "outputs": [],
   "source": [
    "trader.prepared_data.tail(10)"
   ]
  },
  {
   "cell_type": "code",
   "execution_count": null,
   "id": "befea520",
   "metadata": {},
   "outputs": [],
   "source": [
    "trader.trade_values"
   ]
  },
  {
   "cell_type": "code",
   "execution_count": null,
   "id": "5ac717e0",
   "metadata": {},
   "outputs": [],
   "source": [
    "np.sum(trader.trade_values)"
   ]
  },
  {
   "cell_type": "code",
   "execution_count": null,
   "id": "f7e74a9d",
   "metadata": {},
   "outputs": [],
   "source": [
    "client.get_account() "
   ]
  },
  {
   "cell_type": "code",
   "execution_count": null,
   "id": "bf084d96",
   "metadata": {},
   "outputs": [],
   "source": []
  },
  {
   "cell_type": "markdown",
   "id": "139e41b2",
   "metadata": {},
   "source": [
    "## More ways to (automatically) stop a trading Session"
   ]
  },
  {
   "cell_type": "code",
   "execution_count": null,
   "id": "8b37bcfb",
   "metadata": {},
   "outputs": [],
   "source": [
    "from binance.client import Client\n",
    "from binance import ThreadedWebsocketManager\n",
    "import pandas as pd\n",
    "import numpy as np\n",
    "from datetime import datetime, timedelta"
   ]
  },
  {
   "cell_type": "code",
   "execution_count": null,
   "id": "1e09374e",
   "metadata": {},
   "outputs": [],
   "source": [
    "client = Client(api_key = api_key, api_secret = secret_key, tld = \"com\", testnet = True)"
   ]
  },
  {
   "cell_type": "code",
   "execution_count": null,
   "id": "1b9f49dd",
   "metadata": {},
   "outputs": [],
   "source": [
    "class LongOnlyTrader():\n",
    "    \n",
    "    def __init__(self, symbol, bar_length, return_thresh, volume_thresh, units, position = 0):\n",
    "        \n",
    "        self.symbol = symbol\n",
    "        self.bar_length = bar_length\n",
    "        self.available_intervals = [\"1m\", \"3m\", \"5m\", \"15m\", \"30m\", \"1h\", \"2h\", \"4h\", \"6h\", \"8h\", \"12h\", \"1d\", \"3d\", \"1w\", \"1M\"]\n",
    "        self.units = units\n",
    "        self.position = position\n",
    "        self.trades = 0 \n",
    "        self.trade_values = [] \n",
    "        \n",
    "        #*****************adding strategy-specific attributes here******************\n",
    "        self.return_thresh = return_thresh\n",
    "        self.volume_thresh = volume_thresh\n",
    "        #************************************************************************\n",
    "    \n",
    "    def start_trading(self, historical_days):\n",
    "        \n",
    "        self.twm = ThreadedWebsocketManager()\n",
    "        self.twm.start()\n",
    "        \n",
    "        if self.bar_length in self.available_intervals:\n",
    "            self.get_most_recent(symbol = self.symbol, interval = self.bar_length,\n",
    "                                 days = historical_days)\n",
    "            self.twm.start_kline_socket(callback = self.stream_candles,\n",
    "                                        symbol = self.symbol, interval = self.bar_length)\n",
    "    \n",
    "    def get_most_recent(self, symbol, interval, days):\n",
    "    \n",
    "        now = datetime.utcnow()\n",
    "        past = str(now - timedelta(days = days))\n",
    "    \n",
    "        bars = client.get_historical_klines(symbol = symbol, interval = interval,\n",
    "                                            start_str = past, end_str = None, limit = 1000)\n",
    "        df = pd.DataFrame(bars)\n",
    "        df[\"Date\"] = pd.to_datetime(df.iloc[:,0], unit = \"ms\")\n",
    "        df.columns = [\"Open Time\", \"Open\", \"High\", \"Low\", \"Close\", \"Volume\",\n",
    "                      \"Clos Time\", \"Quote Asset Volume\", \"Number of Trades\",\n",
    "                      \"Taker Buy Base Asset Volume\", \"Taker Buy Quote Asset Volume\", \"Ignore\", \"Date\"]\n",
    "        df = df[[\"Date\", \"Open\", \"High\", \"Low\", \"Close\", \"Volume\"]].copy()\n",
    "        df.set_index(\"Date\", inplace = True)\n",
    "        for column in df.columns:\n",
    "            df[column] = pd.to_numeric(df[column], errors = \"coerce\")\n",
    "        df[\"Complete\"] = [True for row in range(len(df)-1)] + [False]\n",
    "        \n",
    "        self.data = df\n",
    "    \n",
    "    def stream_candles(self, msg):\n",
    "        \n",
    "        # extract the required items from msg\n",
    "        event_time = pd.to_datetime(msg[\"E\"], unit = \"ms\")\n",
    "        start_time = pd.to_datetime(msg[\"k\"][\"t\"], unit = \"ms\")\n",
    "        first   = float(msg[\"k\"][\"o\"])\n",
    "        high    = float(msg[\"k\"][\"h\"])\n",
    "        low     = float(msg[\"k\"][\"l\"])\n",
    "        close   = float(msg[\"k\"][\"c\"])\n",
    "        volume  = float(msg[\"k\"][\"v\"])\n",
    "        complete=       msg[\"k\"][\"x\"]\n",
    "    \n",
    "        # stop trading session\n",
    "        if event_time >= datetime(2021, 11, 4, 9, 55):\n",
    "            self.twm.stop()\n",
    "            if self.position != 0:\n",
    "                order = client.create_order(symbol = self.symbol, side = \"SELL\", type = \"MARKET\", quantity = self.units)\n",
    "                self.report_trade(order, \"GOING NEUTRAL AND STOP\") \n",
    "                self.position = 0\n",
    "            else: \n",
    "                print(\"STOP\")\n",
    "        \n",
    "        #more stop examples:\n",
    "        # if self.trades >= xyz\n",
    "        # if self.cum_profits <> xyz\n",
    "        \n",
    "        # print out\n",
    "        print(\".\", end = \"\", flush = True) # just print something to get a feedback (everything OK) \n",
    "    \n",
    "        # feed df (add new bar / update latest bar)\n",
    "        self.data.loc[start_time] = [first, high, low, close, volume, complete]\n",
    "        \n",
    "        # preparing features and defining strategy/trading positions whenever the latest bar is complete\n",
    "        if complete == True:\n",
    "            self.define_strategy()\n",
    "            self.execute_trades()\n",
    "        \n",
    "    def define_strategy(self):\n",
    "        \n",
    "        df = self.data.copy()\n",
    "        \n",
    "        #******************** defining strategy here ************************\n",
    "        df = df[[\"Close\", \"Volume\"]].copy()\n",
    "        df[\"returns\"] = np.log(df.Close / df.Close.shift())\n",
    "        df[\"vol_ch\"] = np.log(df.Volume.div(df.Volume.shift(1)))\n",
    "        df.loc[df.vol_ch > 3, \"vol_ch\"] = np.nan\n",
    "        df.loc[df.vol_ch < -3, \"vol_ch\"] = np.nan  \n",
    "        \n",
    "        cond1 = df.returns >= self.return_thresh\n",
    "        cond2 = df.vol_ch.between(self.volume_thresh[0], self.volume_thresh[1])\n",
    "        \n",
    "        df[\"position\"] = 1\n",
    "        df.loc[cond1 & cond2, \"position\"] = 0\n",
    "        #***********************************************************************\n",
    "        \n",
    "        self.prepared_data = df.copy()\n",
    "    \n",
    "    def execute_trades(self): \n",
    "        if self.prepared_data[\"position\"].iloc[-1] == 1: # if position is long -> go/stay long\n",
    "            if self.position == 0:\n",
    "                order = client.create_order(symbol = self.symbol, side = \"BUY\", type = \"MARKET\", quantity = self.units)\n",
    "                self.report_trade(order, \"GOING LONG\")  \n",
    "            self.position = 1\n",
    "        elif self.prepared_data[\"position\"].iloc[-1] == 0: # if position is neutral -> go/stay neutral\n",
    "            if self.position == 1:\n",
    "                order = client.create_order(symbol = self.symbol, side = \"SELL\", type = \"MARKET\", quantity = self.units)\n",
    "                self.report_trade(order, \"GOING NEUTRAL\")  \n",
    "            self.position = 0\n",
    "    \n",
    "    def report_trade(self, order, going):\n",
    "        \n",
    "        # extract data from order object\n",
    "        side = order[\"side\"]\n",
    "        time = pd.to_datetime(order[\"transactTime\"], unit = \"ms\")\n",
    "        base_units = float(order[\"executedQty\"])\n",
    "        quote_units = float(order[\"cummulativeQuoteQty\"])\n",
    "        price = round(quote_units / base_units, 5)\n",
    "        \n",
    "        # calculate trading profits\n",
    "        self.trades += 1\n",
    "        if side == \"BUY\":\n",
    "            self.trade_values.append(-quote_units)\n",
    "        elif side == \"SELL\":\n",
    "            self.trade_values.append(quote_units) \n",
    "        \n",
    "        if self.trades % 2 == 0:\n",
    "            real_profit = round(np.sum(self.trade_values[-2:]), 3) \n",
    "            self.cum_profits = round(np.sum(self.trade_values), 3)\n",
    "        else: \n",
    "            real_profit = 0\n",
    "            self.cum_profits = round(np.sum(self.trade_values[:-1]), 3)\n",
    "        \n",
    "        # print trade report\n",
    "        print(2 * \"\\n\" + 100* \"-\")\n",
    "        print(\"{} | {}\".format(time, going)) \n",
    "        print(\"{} | Base_Units = {} | Quote_Units = {} | Price = {} \".format(time, base_units, quote_units, price))\n",
    "        print(\"{} | Profit = {} | CumProfits = {} \".format(time, real_profit, self.cum_profits))\n",
    "        print(100 * \"-\" + \"\\n\")"
   ]
  },
  {
   "cell_type": "code",
   "execution_count": null,
   "id": "0ace63a4",
   "metadata": {},
   "outputs": [],
   "source": [
    "symbol = \"BTCUSDT\"\n",
    "bar_length = \"1m\"\n",
    "return_thresh = 0\n",
    "volume_thresh = [-3, 3]\n",
    "units = 0.01\n",
    "position = 0"
   ]
  },
  {
   "cell_type": "code",
   "execution_count": null,
   "id": "9ba8702f",
   "metadata": {},
   "outputs": [],
   "source": [
    "trader = LongOnlyTrader(symbol = symbol, bar_length = bar_length, return_thresh = return_thresh,\n",
    "                        volume_thresh = volume_thresh, units = units, position = position)"
   ]
  },
  {
   "cell_type": "code",
   "execution_count": null,
   "id": "864cec23",
   "metadata": {},
   "outputs": [],
   "source": [
    "trader.start_trading(historical_days = 1/24)"
   ]
  },
  {
   "cell_type": "code",
   "execution_count": null,
   "id": "9f7c892b",
   "metadata": {},
   "outputs": [],
   "source": [
    "trader.cum_profits"
   ]
  },
  {
   "cell_type": "code",
   "execution_count": null,
   "id": "d91997f0",
   "metadata": {},
   "outputs": [],
   "source": [
    "np.sum(trader.trade_values)"
   ]
  },
  {
   "cell_type": "code",
   "execution_count": null,
   "id": "64c10833",
   "metadata": {},
   "outputs": [],
   "source": []
  }
 ],
 "metadata": {
  "kernelspec": {
   "display_name": "Python 3 (ipykernel)",
   "language": "python",
   "name": "python3"
  },
  "language_info": {
   "codemirror_mode": {
    "name": "ipython",
    "version": 3
   },
   "file_extension": ".py",
   "mimetype": "text/x-python",
   "name": "python",
   "nbconvert_exporter": "python",
   "pygments_lexer": "ipython3",
   "version": "3.8.5"
  }
 },
 "nbformat": 4,
 "nbformat_minor": 5
}
